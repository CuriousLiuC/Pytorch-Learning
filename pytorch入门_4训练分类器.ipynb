{
  "nbformat": 4,
  "nbformat_minor": 0,
  "metadata": {
    "colab": {
      "name": "pytorch入门_4训练分类器.ipynb",
      "provenance": [],
      "collapsed_sections": []
    },
    "kernelspec": {
      "name": "python3",
      "display_name": "Python 3"
    },
    "accelerator": "GPU",
    "widgets": {
      "application/vnd.jupyter.widget-state+json": {
        "6c86749652654d698627c1c59885a53b": {
          "model_module": "@jupyter-widgets/controls",
          "model_name": "HBoxModel",
          "state": {
            "_view_name": "HBoxView",
            "_dom_classes": [],
            "_model_name": "HBoxModel",
            "_view_module": "@jupyter-widgets/controls",
            "_model_module_version": "1.5.0",
            "_view_count": null,
            "_view_module_version": "1.5.0",
            "box_style": "",
            "layout": "IPY_MODEL_f59242ba734d4ea8825157e474fd26eb",
            "_model_module": "@jupyter-widgets/controls",
            "children": [
              "IPY_MODEL_fbf021c0c21c469d8495060b761de4bb",
              "IPY_MODEL_d19e68ca267341c8bbe7b57680e17132"
            ]
          }
        },
        "f59242ba734d4ea8825157e474fd26eb": {
          "model_module": "@jupyter-widgets/base",
          "model_name": "LayoutModel",
          "state": {
            "_view_name": "LayoutView",
            "grid_template_rows": null,
            "right": null,
            "justify_content": null,
            "_view_module": "@jupyter-widgets/base",
            "overflow": null,
            "_model_module_version": "1.2.0",
            "_view_count": null,
            "flex_flow": null,
            "width": null,
            "min_width": null,
            "border": null,
            "align_items": null,
            "bottom": null,
            "_model_module": "@jupyter-widgets/base",
            "top": null,
            "grid_column": null,
            "overflow_y": null,
            "overflow_x": null,
            "grid_auto_flow": null,
            "grid_area": null,
            "grid_template_columns": null,
            "flex": null,
            "_model_name": "LayoutModel",
            "justify_items": null,
            "grid_row": null,
            "max_height": null,
            "align_content": null,
            "visibility": null,
            "align_self": null,
            "height": null,
            "min_height": null,
            "padding": null,
            "grid_auto_rows": null,
            "grid_gap": null,
            "max_width": null,
            "order": null,
            "_view_module_version": "1.2.0",
            "grid_template_areas": null,
            "object_position": null,
            "object_fit": null,
            "grid_auto_columns": null,
            "margin": null,
            "display": null,
            "left": null
          }
        },
        "fbf021c0c21c469d8495060b761de4bb": {
          "model_module": "@jupyter-widgets/controls",
          "model_name": "IntProgressModel",
          "state": {
            "_view_name": "ProgressView",
            "style": "IPY_MODEL_42fa31ed971f433fa8225adb9cab7d2f",
            "_dom_classes": [],
            "description": "",
            "_model_name": "IntProgressModel",
            "bar_style": "success",
            "max": 1,
            "_view_module": "@jupyter-widgets/controls",
            "_model_module_version": "1.5.0",
            "value": 1,
            "_view_count": null,
            "_view_module_version": "1.5.0",
            "orientation": "horizontal",
            "min": 0,
            "description_tooltip": null,
            "_model_module": "@jupyter-widgets/controls",
            "layout": "IPY_MODEL_f063fb31d0924ac3b6ab95df82c3c0cf"
          }
        },
        "d19e68ca267341c8bbe7b57680e17132": {
          "model_module": "@jupyter-widgets/controls",
          "model_name": "HTMLModel",
          "state": {
            "_view_name": "HTMLView",
            "style": "IPY_MODEL_507b714ce9224c7d8148976f53695660",
            "_dom_classes": [],
            "description": "",
            "_model_name": "HTMLModel",
            "placeholder": "​",
            "_view_module": "@jupyter-widgets/controls",
            "_model_module_version": "1.5.0",
            "value": "170500096it [00:06, 24676134.56it/s]",
            "_view_count": null,
            "_view_module_version": "1.5.0",
            "description_tooltip": null,
            "_model_module": "@jupyter-widgets/controls",
            "layout": "IPY_MODEL_ac7f079c232f492cbc46bcb13fcfc419"
          }
        },
        "42fa31ed971f433fa8225adb9cab7d2f": {
          "model_module": "@jupyter-widgets/controls",
          "model_name": "ProgressStyleModel",
          "state": {
            "_view_name": "StyleView",
            "_model_name": "ProgressStyleModel",
            "description_width": "",
            "_view_module": "@jupyter-widgets/base",
            "_model_module_version": "1.5.0",
            "_view_count": null,
            "_view_module_version": "1.2.0",
            "bar_color": null,
            "_model_module": "@jupyter-widgets/controls"
          }
        },
        "f063fb31d0924ac3b6ab95df82c3c0cf": {
          "model_module": "@jupyter-widgets/base",
          "model_name": "LayoutModel",
          "state": {
            "_view_name": "LayoutView",
            "grid_template_rows": null,
            "right": null,
            "justify_content": null,
            "_view_module": "@jupyter-widgets/base",
            "overflow": null,
            "_model_module_version": "1.2.0",
            "_view_count": null,
            "flex_flow": null,
            "width": null,
            "min_width": null,
            "border": null,
            "align_items": null,
            "bottom": null,
            "_model_module": "@jupyter-widgets/base",
            "top": null,
            "grid_column": null,
            "overflow_y": null,
            "overflow_x": null,
            "grid_auto_flow": null,
            "grid_area": null,
            "grid_template_columns": null,
            "flex": null,
            "_model_name": "LayoutModel",
            "justify_items": null,
            "grid_row": null,
            "max_height": null,
            "align_content": null,
            "visibility": null,
            "align_self": null,
            "height": null,
            "min_height": null,
            "padding": null,
            "grid_auto_rows": null,
            "grid_gap": null,
            "max_width": null,
            "order": null,
            "_view_module_version": "1.2.0",
            "grid_template_areas": null,
            "object_position": null,
            "object_fit": null,
            "grid_auto_columns": null,
            "margin": null,
            "display": null,
            "left": null
          }
        },
        "507b714ce9224c7d8148976f53695660": {
          "model_module": "@jupyter-widgets/controls",
          "model_name": "DescriptionStyleModel",
          "state": {
            "_view_name": "StyleView",
            "_model_name": "DescriptionStyleModel",
            "description_width": "",
            "_view_module": "@jupyter-widgets/base",
            "_model_module_version": "1.5.0",
            "_view_count": null,
            "_view_module_version": "1.2.0",
            "_model_module": "@jupyter-widgets/controls"
          }
        },
        "ac7f079c232f492cbc46bcb13fcfc419": {
          "model_module": "@jupyter-widgets/base",
          "model_name": "LayoutModel",
          "state": {
            "_view_name": "LayoutView",
            "grid_template_rows": null,
            "right": null,
            "justify_content": null,
            "_view_module": "@jupyter-widgets/base",
            "overflow": null,
            "_model_module_version": "1.2.0",
            "_view_count": null,
            "flex_flow": null,
            "width": null,
            "min_width": null,
            "border": null,
            "align_items": null,
            "bottom": null,
            "_model_module": "@jupyter-widgets/base",
            "top": null,
            "grid_column": null,
            "overflow_y": null,
            "overflow_x": null,
            "grid_auto_flow": null,
            "grid_area": null,
            "grid_template_columns": null,
            "flex": null,
            "_model_name": "LayoutModel",
            "justify_items": null,
            "grid_row": null,
            "max_height": null,
            "align_content": null,
            "visibility": null,
            "align_self": null,
            "height": null,
            "min_height": null,
            "padding": null,
            "grid_auto_rows": null,
            "grid_gap": null,
            "max_width": null,
            "order": null,
            "_view_module_version": "1.2.0",
            "grid_template_areas": null,
            "object_position": null,
            "object_fit": null,
            "grid_auto_columns": null,
            "margin": null,
            "display": null,
            "left": null
          }
        }
      }
    }
  },
  "cells": [
    {
      "cell_type": "code",
      "metadata": {
        "id": "wqZqtEonnmlo",
        "colab_type": "code",
        "colab": {}
      },
      "source": [
        "#classification 实现一个图片分类器，分类器在信息内容安全课程中已经有部分涉及\n",
        "import torch\n",
        "import torchvision\n",
        "import torchvision.transforms as transforms"
      ],
      "execution_count": 0,
      "outputs": []
    },
    {
      "cell_type": "code",
      "metadata": {
        "id": "dRBIPJ6IrbaP",
        "colab_type": "code",
        "colab": {
          "base_uri": "https://localhost:8080/",
          "height": 117,
          "referenced_widgets": [
            "6c86749652654d698627c1c59885a53b",
            "f59242ba734d4ea8825157e474fd26eb",
            "fbf021c0c21c469d8495060b761de4bb",
            "d19e68ca267341c8bbe7b57680e17132",
            "42fa31ed971f433fa8225adb9cab7d2f",
            "f063fb31d0924ac3b6ab95df82c3c0cf",
            "507b714ce9224c7d8148976f53695660",
            "ac7f079c232f492cbc46bcb13fcfc419"
          ]
        },
        "outputId": "7d0f1ff6-6b99-4c0f-84d8-a4bafd1153e9"
      },
      "source": [
        "# 将图片数据从 [0,1] 归一化为 [-1, 1] 的取值范围\n",
        "# 注明，这里应用到了torchvision dataset\b里的CIFAR10\n",
        "\n",
        "#transforms.ToTensor() 给整个纬度值除了一个255\n",
        "'''\n",
        "（1）transforms.Compose就是将transforms组合在一起；\n",
        "\n",
        "（2）transforms.Normalize使用如下公式进行归一化：\n",
        "\n",
        "channel=（channel-mean）/std(因为transforms.ToTensor()已经把数据处理成[0,1],那么(x-0.5)/0.5就是[-1.0, 1.0])\n",
        "\n",
        "这样一来，我们的数据中的每个值就变成了[-1,1]的数了。\n",
        "'''\n",
        "\n",
        "transform = transforms.Compose(\n",
        "    [transforms.ToTensor(),\n",
        "     transforms.Normalize((0.5, 0.5, 0.5), (0.5, 0.5, 0.5))])\n",
        "\n",
        "trainset = torchvision.datasets.CIFAR10(root='./data', train=True,\n",
        "                                        download=True, transform=transform)\n",
        "#分成几组来弄，每次可进入一个批次\n",
        "trainloader = torch.utils.data.DataLoader(trainset, batch_size=4,\n",
        "                                          shuffle=True, num_workers=2)\n",
        "\n",
        "testset = torchvision.datasets.CIFAR10(root='./data', train=False,\n",
        "                                       download=True, transform=transform)\n",
        "testloader = torch.utils.data.DataLoader(testset, batch_size=4,\n",
        "                                         shuffle=False, num_workers=2)\n",
        "\n",
        "classes = ('plane', 'car', 'bird', 'cat',\n",
        "           'deer', 'dog', 'frog', 'horse', 'ship', 'truck')"
      ],
      "execution_count": 10,
      "outputs": [
        {
          "output_type": "stream",
          "text": [
            "Downloading https://www.cs.toronto.edu/~kriz/cifar-10-python.tar.gz to ./data/cifar-10-python.tar.gz\n"
          ],
          "name": "stdout"
        },
        {
          "output_type": "display_data",
          "data": {
            "application/vnd.jupyter.widget-view+json": {
              "model_id": "6c86749652654d698627c1c59885a53b",
              "version_minor": 0,
              "version_major": 2
            },
            "text/plain": [
              "HBox(children=(IntProgress(value=1, bar_style='info', max=1), HTML(value='')))"
            ]
          },
          "metadata": {
            "tags": []
          }
        },
        {
          "output_type": "stream",
          "text": [
            "\n",
            "Extracting ./data/cifar-10-python.tar.gz to ./data\n",
            "Files already downloaded and verified\n"
          ],
          "name": "stdout"
        }
      ]
    },
    {
      "cell_type": "code",
      "metadata": {
        "id": "EfWhHbL5rm9q",
        "colab_type": "code",
        "colab": {
          "base_uri": "https://localhost:8080/",
          "height": 155
        },
        "outputId": "2dfaca1c-06c0-44b9-ba00-83d2fd20f627"
      },
      "source": [
        "import matplotlib.pyplot as plt\n",
        "import numpy as np\n",
        "\n",
        "#展示图片的函数\n",
        "def imshow(img):\n",
        "  img = img / 2 + 0.5\n",
        "  npimg = img.numpy()\n",
        "  plt.imshow(np.transpose(npimg,(1,2,0)))\n",
        "  plt.show\n",
        "\n",
        "#随机获取训练集图片\n",
        "dataiter = iter(trainloader)\n",
        "images, labels = dataiter.next()\n",
        "\n",
        "#展示图片，之前的trainloader是4个图片一个batch的\n",
        "imshow(torchvision.utils.make_grid(images))\n",
        "#打印图片类别标签\n",
        "print(\" \".join(\"%5s\" % classes[labels[j]] for j in range(4)))"
      ],
      "execution_count": 11,
      "outputs": [
        {
          "output_type": "stream",
          "text": [
            " frog truck  frog   cat\n"
          ],
          "name": "stdout"
        },
        {
          "output_type": "display_data",
          "data": {
            "image/png": "[encoded data removed]",
            "text/plain": [
              "<Figure size 432x288 with 1 Axes>"
            ]
          },
          "metadata": {
            "tags": []
          }
        }
      ]
    },
    {
      "cell_type": "code",
      "metadata": {
        "id": "baaj_Dww6bkJ",
        "colab_type": "code",
        "colab": {}
      },
      "source": [
        "#开始卷积神经网络的实现\n",
        "import torch.nn as nn\n",
        "import torch.nn.functional as F\n",
        "\n",
        "\n",
        "class Net(nn.Module):\n",
        "    def __init__(self):\n",
        "        super(Net, self).__init__()\n",
        "        self.conv1 = nn.Conv2d(3, 6, 5)\n",
        "        self.pool = nn.MaxPool2d(2, 2)\n",
        "        self.conv2 = nn.Conv2d(6, 16, 5)\n",
        "        self.fc1 = nn.Linear(16 * 5 * 5, 120)\n",
        "        self.fc2 = nn.Linear(120, 84)\n",
        "        self.fc3 = nn.Linear(84, 10)\n",
        "\n",
        "    def forward(self, x):\n",
        "        x = self.pool(F.relu(self.conv1(x)))\n",
        "        x = self.pool(F.relu(self.conv2(x)))\n",
        "        x = x.view(-1, 16 * 5 * 5)\n",
        "        x = F.relu(self.fc1(x))\n",
        "        x = F.relu(self.fc2(x))\n",
        "        x = self.fc3(x)\n",
        "        return x\n",
        "\n",
        "\n",
        "net = Net()"
      ],
      "execution_count": 0,
      "outputs": []
    },
    {
      "cell_type": "code",
      "metadata": {
        "id": "jQvWVk6u6g8S",
        "colab_type": "code",
        "colab": {}
      },
      "source": [
        "#loss func\n",
        "import torch.optim as optim\n",
        "\n",
        "criterion = nn.CrossEntropyLoss()#两者交叉熵作为损失函数\n",
        "optimizer = optim.SGD(net.parameters(), lr=0.001, momentum=0.9)#权重更新"
      ],
      "execution_count": 0,
      "outputs": []
    },
    {
      "cell_type": "code",
      "metadata": {
        "id": "VhKw-mzB6rpu",
        "colab_type": "code",
        "colab": {
          "base_uri": "https://localhost:8080/",
          "height": 238
        },
        "outputId": "eafadd4f-60ba-49e0-b79f-e894070a4cd5"
      },
      "source": [
        "import time\n",
        "start = time.time()\n",
        "for epoch in range(2):\n",
        "    \n",
        "    running_loss = 0.0\n",
        "    for i, data in enumerate(trainloader, 0):\n",
        "        # 获取输入数据\n",
        "        inputs, labels = data\n",
        "        # 清空梯度缓存\n",
        "        optimizer.zero_grad()\n",
        "        \n",
        "        outputs = net(inputs)\n",
        "        loss = criterion(outputs, labels)\n",
        "        loss.backward()\n",
        "        optimizer.step()\n",
        "        \n",
        "        # 打印统计信息\n",
        "        running_loss += loss.item()\n",
        "        if i % 2000 == 1999:\n",
        "            # 每 2000 次迭代打印一次信息\n",
        "            print('[%d, %5d] loss: %.3f' % (epoch + 1, i+1, running_loss / 2000))\n",
        "            running_loss = 0.0\n",
        "print('Finished Training! Total cost time: ', time.time()-start)"
      ],
      "execution_count": 14,
      "outputs": [
        {
          "output_type": "stream",
          "text": [
            "[1,  2000] loss: 2.268\n",
            "[1,  4000] loss: 1.962\n",
            "[1,  6000] loss: 1.688\n",
            "[1,  8000] loss: 1.591\n",
            "[1, 10000] loss: 1.509\n",
            "[1, 12000] loss: 1.463\n",
            "[2,  2000] loss: 1.382\n",
            "[2,  4000] loss: 1.381\n",
            "[2,  6000] loss: 1.353\n",
            "[2,  8000] loss: 1.339\n",
            "[2, 10000] loss: 1.297\n",
            "[2, 12000] loss: 1.294\n",
            "Finished Training! Total cost time:  112.64330649375916\n"
          ],
          "name": "stdout"
        }
      ]
    },
    {
      "cell_type": "code",
      "metadata": {
        "id": "-ssE_aTP7l50",
        "colab_type": "code",
        "colab": {
          "base_uri": "https://localhost:8080/",
          "height": 155
        },
        "outputId": "5c4cb1a6-54ee-4d88-a850-86157317f768"
      },
      "source": [
        "#测试模型效果\n",
        "dataiter = iter(testloader)\n",
        "images, labels = dataiter.next()\n",
        "\n",
        "# 打印图片\n",
        "imshow(torchvision.utils.make_grid(images))\n",
        "print('GroundTruth: ', ' '.join('%5s' % classes[labels[j]] for j in range(4)))"
      ],
      "execution_count": 15,
      "outputs": [
        {
          "output_type": "stream",
          "text": [
            "GroundTruth:    cat  ship  ship plane\n"
          ],
          "name": "stdout"
        },
        {
          "output_type": "display_data",
          "data": {
            "image/png": "[encoded data removed]",
            "text/plain": [
              "<Figure size 432x288 with 1 Axes>"
            ]
          },
          "metadata": {
            "tags": []
          }
        }
      ]
    },
    {
      "cell_type": "code",
      "metadata": {
        "id": "TBEOq60L7spL",
        "colab_type": "code",
        "colab": {
          "base_uri": "https://localhost:8080/",
          "height": 238
        },
        "outputId": "8b7981ac-39ce-4b7c-95e5-6aa7ffbc8a76"
      },
      "source": [
        "outputs = net(images)\n",
        "print('outputs: ', outputs)\n",
        "# 预测结果\n",
        "print('predict: ', torch.max(outputs, 1))#每一行最大的一个max的，能返回其索引值！！\n",
        "_, predicted = torch.max(outputs, 1)\n",
        "print('Predicted: ', ' '.join('%5s' % classes[predicted[j]] for j in range(4)))"
      ],
      "execution_count": 16,
      "outputs": [
        {
          "output_type": "stream",
          "text": [
            "outputs:  tensor([[-1.1723e+00, -2.0943e+00,  7.7904e-01,  2.3443e+00, -8.7358e-01,\n",
            "          1.8514e+00,  5.4048e-01, -9.5151e-01, -7.7623e-02, -1.2553e+00],\n",
            "        [ 6.2178e+00,  6.1346e+00, -2.9446e+00, -4.4344e+00, -3.7237e+00,\n",
            "         -5.5322e+00, -4.9320e+00, -4.2174e+00,  7.1446e+00,  5.1061e+00],\n",
            "        [ 3.8988e+00,  3.8892e+00, -1.4570e+00, -3.0158e+00, -1.5955e+00,\n",
            "         -4.0524e+00, -2.7604e+00, -2.8489e+00,  4.8477e+00,  2.8336e+00],\n",
            "        [ 4.7292e+00,  7.0574e-01,  1.6525e-01, -2.0937e+00,  1.0325e+00,\n",
            "         -3.5557e+00, -2.1200e+00, -2.7580e+00,  3.0179e+00,  4.2230e-03]],\n",
            "       grad_fn=<AddmmBackward>)\n",
            "predict:  torch.return_types.max(\n",
            "values=tensor([2.3443, 7.1446, 4.8477, 4.7292], grad_fn=<MaxBackward0>),\n",
            "indices=tensor([3, 8, 8, 0]))\n",
            "Predicted:    cat  ship  ship plane\n"
          ],
          "name": "stdout"
        }
      ]
    },
    {
      "cell_type": "code",
      "metadata": {
        "id": "KYyaiFcp9m_K",
        "colab_type": "code",
        "colab": {
          "base_uri": "https://localhost:8080/",
          "height": 34
        },
        "outputId": "38aca9e0-78e1-48ab-e43b-c56300f1e44b"
      },
      "source": [
        "correct = 0\n",
        "total = 0\n",
        "with torch.no_grad():\n",
        "    for data in testloader:\n",
        "        images, labels = data\n",
        "        outputs = net(images)\n",
        "        _, predicted = torch.max(outputs.data, 1)\n",
        "        total += labels.size(0)\n",
        "        correct += (predicted == labels).sum().item()\n",
        "\n",
        "print('Accuracy of the network on the 10000 test images: %d %%' % (100 * correct / total))"
      ],
      "execution_count": 17,
      "outputs": [
        {
          "output_type": "stream",
          "text": [
            "Accuracy of the network on the 10000 test images: 54 %\n"
          ],
          "name": "stdout"
        }
      ]
    },
    {
      "cell_type": "code",
      "metadata": {
        "id": "4G_S01n--qfA",
        "colab_type": "code",
        "colab": {
          "base_uri": "https://localhost:8080/",
          "height": 187
        },
        "outputId": "cffb3421-fb78-4079-e700-beafb11e068c"
      },
      "source": [
        "class_correct = list(0. for i in range(10))\n",
        "class_total = list(0. for i in range(10))\n",
        "with torch.no_grad():\n",
        "    for data in testloader:\n",
        "        images, labels = data\n",
        "        outputs = net(images)\n",
        "        _, predicted = torch.max(outputs, 1)\n",
        "        c = (predicted == labels).squeeze()\n",
        "        for i in range(4):\n",
        "            label = labels[i]\n",
        "            class_correct[label] += c[i].item()\n",
        "            class_total[label] += 1\n",
        "        \n",
        "\n",
        "for i in range(10):\n",
        "    print('Accuracy of %5s : %2d %%' % (classes[i], 100 * class_correct[i] / class_total[i]))"
      ],
      "execution_count": 18,
      "outputs": [
        {
          "output_type": "stream",
          "text": [
            "Accuracy of plane : 59 %\n",
            "Accuracy of   car : 62 %\n",
            "Accuracy of  bird : 56 %\n",
            "Accuracy of   cat : 27 %\n",
            "Accuracy of  deer : 26 %\n",
            "Accuracy of   dog : 64 %\n",
            "Accuracy of  frog : 54 %\n",
            "Accuracy of horse : 54 %\n",
            "Accuracy of  ship : 74 %\n",
            "Accuracy of truck : 60 %\n"
          ],
          "name": "stdout"
        }
      ]
    },
    {
      "cell_type": "code",
      "metadata": {
        "id": "OWXz1fih-wM3",
        "colab_type": "code",
        "colab": {
          "base_uri": "https://localhost:8080/",
          "height": 34
        },
        "outputId": "6383ae44-3cef-4a9f-b334-9441ceb36dbc"
      },
      "source": [
        "device = torch.device(\"cuda:0\" if torch.cuda.is_available() else \"cpu\")\n",
        "print(device)"
      ],
      "execution_count": 19,
      "outputs": [
        {
          "output_type": "stream",
          "text": [
            "cuda:0\n"
          ],
          "name": "stdout"
        }
      ]
    },
    {
      "cell_type": "code",
      "metadata": {
        "id": "Fm2UagX0-2SF",
        "colab_type": "code",
        "colab": {
          "base_uri": "https://localhost:8080/",
          "height": 238
        },
        "outputId": "2bf37a7e-c153-4705-9966-cfd85081e4d1"
      },
      "source": [
        "import time\n",
        "# 在 GPU 上训练注意需要将网络和数据放到 GPU 上\n",
        "net.to(device)\n",
        "criterion = nn.CrossEntropyLoss()\n",
        "optimizer = optim.SGD(net.parameters(), lr=0.001, momentum=0.9)\n",
        "\n",
        "start = time.time()\n",
        "for epoch in range(2):\n",
        "    \n",
        "    running_loss = 0.0\n",
        "    for i, data in enumerate(trainloader, 0):\n",
        "        # 获取输入数据\n",
        "        inputs, labels = data\n",
        "        inputs, labels = inputs.to(device), labels.to(device)\n",
        "        # 清空梯度缓存\n",
        "        optimizer.zero_grad()\n",
        "        \n",
        "        outputs = net(inputs)\n",
        "        loss = criterion(outputs, labels)\n",
        "        loss.backward()\n",
        "        optimizer.step()\n",
        "        \n",
        "        # 打印统计信息\n",
        "        running_loss += loss.item()\n",
        "        if i % 2000 == 1999:\n",
        "            # 每 2000 次迭代打印一次信息\n",
        "            print('[%d, %5d] loss: %.3f' % (epoch + 1, i+1, running_loss / 2000))\n",
        "            running_loss = 0.0\n",
        "print('Finished Training! Total cost time: ', time.time() - start)"
      ],
      "execution_count": 20,
      "outputs": [
        {
          "output_type": "stream",
          "text": [
            "[1,  2000] loss: 1.231\n",
            "[1,  4000] loss: 1.221\n",
            "[1,  6000] loss: 1.210\n",
            "[1,  8000] loss: 1.202\n",
            "[1, 10000] loss: 1.190\n",
            "[1, 12000] loss: 1.195\n",
            "[2,  2000] loss: 1.108\n",
            "[2,  4000] loss: 1.116\n",
            "[2,  6000] loss: 1.115\n",
            "[2,  8000] loss: 1.129\n",
            "[2, 10000] loss: 1.128\n",
            "[2, 12000] loss: 1.114\n",
            "Finished Training! Total cost time:  101.77197909355164\n"
          ],
          "name": "stdout"
        }
      ]
    }
  ]
}