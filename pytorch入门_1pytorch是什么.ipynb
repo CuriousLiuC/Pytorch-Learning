{
  "nbformat": 4,
  "nbformat_minor": 0,
  "metadata": {
    "colab": {
      "name": "pytorch入门_1pytorch是什么.ipynb",
      "provenance": [],
      "collapsed_sections": []
    },
    "kernelspec": {
      "name": "python3",
      "display_name": "Python 3"
    },
    "accelerator": "GPU"
  },
  "cells": [
    {
      "cell_type": "code",
      "metadata": {
        "id": "O9NCbijfciai",
        "colab_type": "code",
        "colab": {
          "base_uri": "https://localhost:8080/",
          "height": 119
        },
        "outputId": "91962453-0df5-40fd-fbaa-49b7e85e35fb"
      },
      "source": [
        "#1.1安装\n",
        "from __future__ import print_function\n",
        "import torch\n",
        "#初始化一个5行3列的矩阵\n",
        "#自认为后续可用于初始化赋值卷积神经网络参数\n",
        "x = torch.rand(5,3)\n",
        "print(x)\n",
        "torch.cuda.is_available()"
      ],
      "execution_count": 9,
      "outputs": [
        {
          "output_type": "stream",
          "text": [
            "tensor([[0.6399, 0.7916, 0.5344],\n",
            "        [0.3832, 0.4349, 0.8627],\n",
            "        [0.7099, 0.2541, 0.1896],\n",
            "        [0.1240, 0.6529, 0.8951],\n",
            "        [0.9579, 0.0974, 0.8235]])\n"
          ],
          "name": "stdout"
        },
        {
          "output_type": "execute_result",
          "data": {
            "text/plain": [
              "True"
            ]
          },
          "metadata": {
            "tags": []
          },
          "execution_count": 9
        }
      ]
    },
    {
      "cell_type": "code",
      "metadata": {
        "id": "WdbYEhfTeRkQ",
        "colab_type": "code",
        "colab": {
          "base_uri": "https://localhost:8080/",
          "height": 374
        },
        "outputId": "ca0b7c95-bae0-48fe-bd59-946cd7573fd1"
      },
      "source": [
        "#1.2张量(tensors)\n",
        "#tensor和多维数组的区别是tensors可以应用到GPU上加快计算速度（这句话还需要很长时间慢慢理解了）\n",
        "#以下每个创建出来的矩阵都其实是一个tensor\n",
        "\n",
        "from __future__ import print_function\n",
        "import torch\n",
        "\n",
        "#创建一个5x3的矩阵,这个代码是声明一个未初始化的矩阵，相当于C++中的未memset的？\n",
        "x = torch.empty(5,3)\n",
        "print(\"empty_x:\",x)\n",
        "\n",
        "#创建一个随机初始化的5*3矩阵\n",
        "rand_x = torch.rand(5,3)\n",
        "print(\"rand_x:\",rand_x)\n",
        "\n",
        "#创建一个数值都是0，但是类型为long的矩阵\n",
        "zero_x = torch.zeros(5,3,dtype = torch.long)\n",
        "print(\"zero_x\",zero_x)\n",
        "\n",
        "one_x = torch.ones(5,3,dtype = torch.int32)\n",
        "print(\"one_x\",one_x)\n",
        "\n",
        "#直接传递tensor数值来创建tensor\n",
        "#tensor数值是[5.5,3]\n",
        "tensor1 = torch.tensor([5.5,3])\n",
        "print(\"tensor1:\",tensor1)"
      ],
      "execution_count": 3,
      "outputs": [
        {
          "output_type": "stream",
          "text": [
            "empty_x: tensor([[5.1865e-36, 0.0000e+00, 0.0000e+00],\n",
            "        [0.0000e+00, 0.0000e+00, 0.0000e+00],\n",
            "        [0.0000e+00, 0.0000e+00, 2.8026e-45],\n",
            "        [0.0000e+00, 1.1210e-44, 0.0000e+00],\n",
            "        [1.4013e-45, 0.0000e+00, 0.0000e+00]])\n",
            "rand_x: tensor([[0.8637, 0.3938, 0.1560],\n",
            "        [0.6182, 0.7886, 0.4370],\n",
            "        [0.6442, 0.8876, 0.0139],\n",
            "        [0.3020, 0.9182, 0.1164],\n",
            "        [0.4470, 0.1056, 0.8494]])\n",
            "zero_x tensor([[0, 0, 0],\n",
            "        [0, 0, 0],\n",
            "        [0, 0, 0],\n",
            "        [0, 0, 0],\n",
            "        [0, 0, 0]])\n",
            "one_x tensor([[1, 1, 1],\n",
            "        [1, 1, 1],\n",
            "        [1, 1, 1],\n",
            "        [1, 1, 1],\n",
            "        [1, 1, 1]], dtype=torch.int32)\n",
            "tensor1: tensor([5.5000, 3.0000])\n"
          ],
          "name": "stdout"
        }
      ]
    },
    {
      "cell_type": "code",
      "metadata": {
        "id": "VaHPZKmxNxxw",
        "colab_type": "code",
        "colab": {
          "base_uri": "https://localhost:8080/",
          "height": 204
        },
        "outputId": "bdf38204-978d-4ea3-ee59-229f883c41c9"
      },
      "source": [
        "#除了上述几种方法，还可以根据已有的tensor变量创建新的tensor变量。\n",
        "#这种做法的好处是可以保留已有tensor的一些属性，包括尺寸大小，数值属性，除非是重新定义这些属性\n",
        "\n",
        "#显示定义新的尺寸是5*3，数值类型是torch.double\n",
        "#稍微有点不明白这种定义方式有什么新奇的\n",
        "tensor2 = tensor1.new_ones(5,3,dtype = torch.double)\n",
        "print(tensor2)\n",
        "\n",
        "#保留相同的尺寸大小\n",
        "#修改数值类型\n",
        "#尺寸大小没有改变，但是输出类型改变了。\n",
        "tensor3 = torch.randn_like(tensor2,dtype = torch.float)\n",
        "print(\"tensor3:\",tensor3)\n",
        "\n",
        "#最后对tensor的尺寸获取可以采用tensor.size()方法\n",
        "print(\"tensor3.size() = \",tensor3.size())"
      ],
      "execution_count": 4,
      "outputs": [
        {
          "output_type": "stream",
          "text": [
            "tensor([[1., 1., 1.],\n",
            "        [1., 1., 1.],\n",
            "        [1., 1., 1.],\n",
            "        [1., 1., 1.],\n",
            "        [1., 1., 1.]], dtype=torch.float64)\n",
            "tensor3: tensor([[-0.0669, -0.7156, -0.0420],\n",
            "        [-1.1982,  2.4167,  0.3713],\n",
            "        [ 0.1110,  2.4673, -1.3404],\n",
            "        [-0.9680, -1.8274,  0.9588],\n",
            "        [-1.0530, -0.2329,  1.0503]])\n",
            "tensor3.size() =  torch.Size([5, 3])\n"
          ],
          "name": "stdout"
        }
      ]
    },
    {
      "cell_type": "code",
      "metadata": {
        "id": "XRGndOvdQRV6",
        "colab_type": "code",
        "colab": {
          "base_uri": "https://localhost:8080/",
          "height": 544
        },
        "outputId": "3ee8b1b3-f28c-4e83-cfca-ce537eae0712"
      },
      "source": [
        "#1.2.2操作（Operations）\n",
        "#这里展示了多种加法操作的实现\n",
        "tensor4 = torch.rand(5,3)\n",
        "print(\"tensor3 + tensor4 = \",tensor3+tensor4)\n",
        "print(\"tensor3 + tensor4 = \",torch.add(tensor3,tensor4))\n",
        "#新声明一个tensor变量保存加法操作的结果\n",
        "result = torch.empty(5,3)\n",
        "torch.add(tensor3,tensor4,out = result)\n",
        "print(\"add result = \",result)\n",
        "#直接修改变量\n",
        "tensor3.add_(tensor4)\n",
        "print(\"tensor3 = \",tensor3)\n",
        "\n",
        "#这里引出，可以改变tensor的变量的操作结尾都带有一个'_'\n",
        "\n",
        "#使用索引访问tensor中某一维的数据\n",
        "print(tensor3[:,0])#0列\n",
        "print(tensor3[0,:])#0行\n",
        "\n",
        "#对tensor的尺寸修改，可以采用torch.view()表示，如下所示\n",
        "x = torch.randn(4,4)\n",
        "y = x.view(16)\n",
        "# -1 表示除给定维度外其余维度的乘积\n",
        "z = x.view(-1,8)\n",
        "print(x.size(),y.size(),z.size())\n",
        "#print(\"x\",x)\n",
        "#print(\"y\",y)\n",
        "#print(\"z\",z)\n"
      ],
      "execution_count": 15,
      "outputs": [
        {
          "output_type": "stream",
          "text": [
            "tensor3 + tensor4 =  tensor([[4.3121, 4.3362, 3.9851],\n",
            "        [3.0356, 7.4158, 7.3409],\n",
            "        [5.5801, 7.0722, 1.5657],\n",
            "        [5.3361, 4.2390, 3.9050],\n",
            "        [3.5736, 6.0294, 7.6059]])\n",
            "tensor3 + tensor4 =  tensor([[4.3121, 4.3362, 3.9851],\n",
            "        [3.0356, 7.4158, 7.3409],\n",
            "        [5.5801, 7.0722, 1.5657],\n",
            "        [5.3361, 4.2390, 3.9050],\n",
            "        [3.5736, 6.0294, 7.6059]])\n",
            "add result =  tensor([[4.3121, 4.3362, 3.9851],\n",
            "        [3.0356, 7.4158, 7.3409],\n",
            "        [5.5801, 7.0722, 1.5657],\n",
            "        [5.3361, 4.2390, 3.9050],\n",
            "        [3.5736, 6.0294, 7.6059]])\n",
            "tensor3 =  tensor([[4.3121, 4.3362, 3.9851],\n",
            "        [3.0356, 7.4158, 7.3409],\n",
            "        [5.5801, 7.0722, 1.5657],\n",
            "        [5.3361, 4.2390, 3.9050],\n",
            "        [3.5736, 6.0294, 7.6059]])\n",
            "tensor([4.3121, 3.0356, 5.5801, 5.3361, 3.5736])\n",
            "tensor([4.3121, 4.3362, 3.9851])\n",
            "torch.Size([4, 4]) torch.Size([16]) torch.Size([2, 8])\n",
            "x tensor([[-0.8710, -1.5972,  0.3462,  0.8298],\n",
            "        [-1.0733, -0.9744,  0.8770, -0.9149],\n",
            "        [ 0.5426, -0.0728,  0.2210, -0.2203],\n",
            "        [-0.5247, -0.2599,  0.6935, -1.1100]])\n",
            "y tensor([-0.8710, -1.5972,  0.3462,  0.8298, -1.0733, -0.9744,  0.8770, -0.9149,\n",
            "         0.5426, -0.0728,  0.2210, -0.2203, -0.5247, -0.2599,  0.6935, -1.1100])\n",
            "z tensor([[-0.8710, -1.5972,  0.3462,  0.8298, -1.0733, -0.9744,  0.8770, -0.9149],\n",
            "        [ 0.5426, -0.0728,  0.2210, -0.2203, -0.5247, -0.2599,  0.6935, -1.1100]])\n"
          ],
          "name": "stdout"
        }
      ]
    },
    {
      "cell_type": "code",
      "metadata": {
        "id": "nP8cScYlorPf",
        "colab_type": "code",
        "colab": {
          "base_uri": "https://localhost:8080/",
          "height": 51
        },
        "outputId": "a34907ae-28d0-49fe-ef48-4da3ff6d1bf9"
      },
      "source": [
        "#如果tensor只有一个元素，可以采用.item()来获取类似Python中整数类型的数值：\n",
        "x = torch.randn(1)\n",
        "print(x)\n",
        "print(x.item())"
      ],
      "execution_count": 17,
      "outputs": [
        {
          "output_type": "stream",
          "text": [
            "tensor([-1.1221])\n",
            "-1.1221100091934204\n"
          ],
          "name": "stdout"
        }
      ]
    },
    {
      "cell_type": "code",
      "metadata": {
        "id": "G6BArjiIo6pm",
        "colab_type": "code",
        "colab": {
          "base_uri": "https://localhost:8080/",
          "height": 85
        },
        "outputId": "e23559c6-a048-41a7-fd4c-32f5d5caf183"
      },
      "source": [
        "#1.3和numpy数组的转换\n",
        "#tensor和numpy数组可以相互转换，并且两者转换之后构想在CPU下的内存空间，改变其中一个另外一个也会改变\n",
        "\n",
        "#1.3.1tensor转化为numpy数组\n",
        "a = torch.ones(5)\n",
        "print(a)\n",
        "b = a.numpy()\n",
        "print(b)\n",
        "\n",
        "#以下输出证明两者共享内存空间\n",
        "a.add_(1)\n",
        "print(a)\n",
        "print(b)\n"
      ],
      "execution_count": 19,
      "outputs": [
        {
          "output_type": "stream",
          "text": [
            "tensor([1., 1., 1., 1., 1.])\n",
            "[1. 1. 1. 1. 1.]\n",
            "tensor([2., 2., 2., 2., 2.])\n",
            "[2. 2. 2. 2. 2.]\n"
          ],
          "name": "stdout"
        }
      ]
    },
    {
      "cell_type": "code",
      "metadata": {
        "id": "DkwIHa6PqEsD",
        "colab_type": "code",
        "colab": {
          "base_uri": "https://localhost:8080/",
          "height": 51
        },
        "outputId": "a25e1772-1f11-42dd-823c-6e51396cc591"
      },
      "source": [
        "#1.3.2numpy数组转换为tensor\n",
        "import numpy as np\n",
        "a = np.ones(5)\n",
        "b = torch.from_numpy(a)\n",
        "np.add(a,1,out = a)\n",
        "print(a)\n",
        "print(b)\n",
        "#在CPU上，除了CharTensor外所有的Tensor类型变量，都支持和Numpy数组的相互转换操作"
      ],
      "execution_count": 20,
      "outputs": [
        {
          "output_type": "stream",
          "text": [
            "[2. 2. 2. 2. 2.]\n",
            "tensor([2., 2., 2., 2., 2.], dtype=torch.float64)\n"
          ],
          "name": "stdout"
        }
      ]
    },
    {
      "cell_type": "code",
      "metadata": {
        "id": "7JnjH4UpqpjR",
        "colab_type": "code",
        "colab": {
          "base_uri": "https://localhost:8080/",
          "height": 51
        },
        "outputId": "909ecad3-61c1-49ed-a1ff-c8dc56d175d0"
      },
      "source": [
        "#1.4 CUDA张量\n",
        "#tensor可以通过.to的方法转换到不同设备上，即CPU或者GPU上，例子如下所示\n",
        "\n",
        "#当cuda可用的是，可用运行下方这段代码，采用torch.device()方法来改变tensors是否在GPU上进行计算操作\n",
        "\n",
        "if torch.cuda.is_available():\n",
        "  device = torch.device(\"cuda\")#定义一个CUDA设备对象\n",
        "  y = torch.ones_like(x,device = device) #显示创建在GPU上的一个tensor\n",
        "  x = x.to(device) #也可以采用 to.(\"cuda\")\n",
        "  z = x+y\n",
        "  print(z)#两个cuda类型的加在一起了\n",
        "  print(z.to(\"cpu\",torch.double))#可以改变数值类型\n"
      ],
      "execution_count": 21,
      "outputs": [
        {
          "output_type": "stream",
          "text": [
            "tensor([-0.1221], device='cuda:0')\n",
            "tensor([-0.1221], dtype=torch.float64)\n"
          ],
          "name": "stdout"
        }
      ]
    }
  ]
}